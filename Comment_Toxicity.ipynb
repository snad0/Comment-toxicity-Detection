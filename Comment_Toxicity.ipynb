{
  "nbformat": 4,
  "nbformat_minor": 0,
  "metadata": {
    "colab": {
      "name": "Comment_Toxicity.ipynb",
      "provenance": [],
      "mount_file_id": "1ithZyEOB_LnMPnB_tvbSbWwQq_VwE_M2",
      "authorship_tag": "ABX9TyNsxnsZz1/OcsqdiiqeWiRl",
      "include_colab_link": true
    },
    "kernelspec": {
      "name": "python3",
      "display_name": "Python 3"
    },
    "language_info": {
      "name": "python"
    },
    "accelerator": "GPU",
    "gpuClass": "standard"
  },
  "cells": [
    {
      "cell_type": "markdown",
      "metadata": {
        "id": "view-in-github",
        "colab_type": "text"
      },
      "source": [
        "<a href=\"https://colab.research.google.com/github/snad0/Comment-toxicity-Detection/blob/main/Comment_Toxicity.ipynb\" target=\"_parent\"><img src=\"https://colab.research.google.com/assets/colab-badge.svg\" alt=\"Open In Colab\"/></a>"
      ]
    },
    {
      "cell_type": "code",
      "execution_count": 1,
      "metadata": {
        "id": "7hTb-NYzclAv"
      },
      "outputs": [],
      "source": [
        "import os\n",
        "import pandas as pd\n",
        "import tensorflow as tf\n",
        "import numpy as np"
      ]
    },
    {
      "cell_type": "code",
      "source": [
        "\n",
        "dataset= pd.read_csv(\"/content/drive/MyDrive/train.csv\")"
      ],
      "metadata": {
        "id": "Qq69jLUEcq_6"
      },
      "execution_count": 2,
      "outputs": []
    },
    {
      "cell_type": "code",
      "source": [
        "from tensorflow.keras.layers import TextVectorization"
      ],
      "metadata": {
        "id": "tq7_RlucdE3A"
      },
      "execution_count": 3,
      "outputs": []
    },
    {
      "cell_type": "code",
      "source": [
        "X=dataset[\"comment_text\"]\n",
        "Y=dataset[dataset.columns[2:]].values"
      ],
      "metadata": {
        "id": "NbN5qqbjdKo3"
      },
      "execution_count": 4,
      "outputs": []
    },
    {
      "cell_type": "code",
      "source": [
        "vectorize=TextVectorization(max_tokens=200000,output_sequence_length=1800,\n",
        "                           output_mode=\"int\")"
      ],
      "metadata": {
        "id": "qM7hlGeKdTH-"
      },
      "execution_count": 5,
      "outputs": []
    },
    {
      "cell_type": "code",
      "source": [
        "vectorize.adapt(X.values)"
      ],
      "metadata": {
        "id": "i_hmsE6HdU8O"
      },
      "execution_count": 9,
      "outputs": []
    },
    {
      "cell_type": "code",
      "source": [
        "vectorized_text=vectorize(X.values)"
      ],
      "metadata": {
        "id": "CzPfSAD1drXg"
      },
      "execution_count": 10,
      "outputs": []
    },
    {
      "cell_type": "code",
      "source": [
        "data = tf.data.Dataset.from_tensor_slices((vectorized_text,Y))\n",
        "data=data.cache()\n",
        "data=data.shuffle(160000)\n",
        "data=data.batch(16)\n",
        "data=data.prefetch(8)"
      ],
      "metadata": {
        "id": "AUQ08A6kdXd2"
      },
      "execution_count": 11,
      "outputs": []
    },
    {
      "cell_type": "code",
      "source": [
        "batch_X, batch_Y = data.as_numpy_iterator().next()"
      ],
      "metadata": {
        "id": "XpXnUPeldZWH"
      },
      "execution_count": 12,
      "outputs": []
    },
    {
      "cell_type": "code",
      "source": [
        "#Partition the dataset\n",
        "train = data.take(int(len(data)*.7))\n",
        "val=  data.skip(int(len(data)*.7)).take(int(len(data)*.2))\n",
        "test = data.skip(int(len(data)*.9)).take(int(len(data)*.1))"
      ],
      "metadata": {
        "id": "-NzgY1pBd43C"
      },
      "execution_count": 14,
      "outputs": []
    },
    {
      "cell_type": "code",
      "source": [
        "train_generator= train.as_numpy_iterator()"
      ],
      "metadata": {
        "id": "lttKBe2TdyHn"
      },
      "execution_count": 15,
      "outputs": []
    },
    {
      "cell_type": "code",
      "source": [
        "from tensorflow.keras.models import Sequential\n",
        "from tensorflow.keras.layers import LSTM, Dropout, Bidirectional, Dense, Embedding"
      ],
      "metadata": {
        "id": "skwiO3hUd0bB"
      },
      "execution_count": 16,
      "outputs": []
    },
    {
      "cell_type": "code",
      "source": [
        "model= Sequential()\n",
        "# model.add(Embedded(Max_Number of words+1,32))\n",
        "model.add(Embedding(200000+1,32))\n",
        "\n",
        "model.add(Bidirectional (LSTM(32,activation='tanh')))\n",
        "\n",
        "\n",
        "model.add(Dense(128, activation ='relu'))\n",
        "model.add(Dense(256, activation ='relu'))\n",
        "model.add(Dense(128, activation ='relu'))\n",
        "\n",
        "#final layer for classification\n",
        "model.add(Dense(6, activation ='sigmoid'))"
      ],
      "metadata": {
        "id": "PM-AV88bd9F1"
      },
      "execution_count": 17,
      "outputs": []
    },
    {
      "cell_type": "code",
      "source": [
        "model.compile(loss='BinaryCrossentropy', optimizer='Adam')"
      ],
      "metadata": {
        "id": "G7BYOt6Vd-zW"
      },
      "execution_count": 18,
      "outputs": []
    },
    {
      "cell_type": "code",
      "source": [
        "history= model.fit(train, epochs=10, validation_data=val)"
      ],
      "metadata": {
        "colab": {
          "base_uri": "https://localhost:8080/"
        },
        "id": "_UHpUIObeAON",
        "outputId": "b5d4174a-043f-4c7e-8d2c-1093dc951905"
      },
      "execution_count": 67,
      "outputs": [
        {
          "output_type": "stream",
          "name": "stdout",
          "text": [
            "Epoch 1/10\n",
            "6981/6981 [==============================] - 644s 92ms/step - loss: 0.0462 - val_loss: 0.0395\n",
            "Epoch 2/10\n",
            "6981/6981 [==============================] - 627s 90ms/step - loss: 0.0404 - val_loss: 0.0368\n",
            "Epoch 3/10\n",
            "6981/6981 [==============================] - 630s 90ms/step - loss: 0.0357 - val_loss: 0.0312\n",
            "Epoch 4/10\n",
            "6981/6981 [==============================] - 615s 88ms/step - loss: 0.0322 - val_loss: 0.0284\n",
            "Epoch 5/10\n",
            "6981/6981 [==============================] - 614s 88ms/step - loss: 0.0290 - val_loss: 0.0254\n",
            "Epoch 6/10\n",
            "6981/6981 [==============================] - 618s 88ms/step - loss: 0.0259 - val_loss: 0.0230\n",
            "Epoch 7/10\n",
            "6981/6981 [==============================] - 618s 89ms/step - loss: 0.0235 - val_loss: 0.0197\n",
            "Epoch 8/10\n",
            "6981/6981 [==============================] - 614s 88ms/step - loss: 0.0206 - val_loss: 0.0180\n",
            "Epoch 9/10\n",
            "6981/6981 [==============================] - 615s 88ms/step - loss: 0.0182 - val_loss: 0.0147\n",
            "Epoch 10/10\n",
            "6981/6981 [==============================] - 613s 88ms/step - loss: 0.0162 - val_loss: 0.0142\n"
          ]
        }
      ]
    },
    {
      "cell_type": "code",
      "source": [
        "from matplotlib import pyplot as plt"
      ],
      "metadata": {
        "id": "zBMeibojeB5l"
      },
      "execution_count": 68,
      "outputs": []
    },
    {
      "cell_type": "code",
      "source": [
        "plt.figure(figsize=(8,5))\n",
        "pd.DataFrame(history.history).plot()\n",
        "plt.show()"
      ],
      "metadata": {
        "colab": {
          "base_uri": "https://localhost:8080/",
          "height": 282
        },
        "id": "u-xj7HDpe0m-",
        "outputId": "b4ce90e7-7c1d-4eb9-f4c5-1a4f695e7d3b"
      },
      "execution_count": 69,
      "outputs": [
        {
          "output_type": "display_data",
          "data": {
            "text/plain": [
              "<Figure size 576x360 with 0 Axes>"
            ]
          },
          "metadata": {}
        },
        {
          "output_type": "display_data",
          "data": {
            "text/plain": [
              "<Figure size 432x288 with 1 Axes>"
            ],
            "image/png": "[encoded data removed]"
          },
          "metadata": {
            "needs_background": "light"
          }
        }
      ]
    },
    {
      "cell_type": "markdown",
      "source": [
        "**MAKE PREDICTIONS**"
      ],
      "metadata": {
        "id": "ndKkNt4xf2-D"
      }
    },
    {
      "cell_type": "code",
      "source": [
        "batch= test.as_numpy_iterator().next()"
      ],
      "metadata": {
        "id": "RuwdcnbohCPB"
      },
      "execution_count": 70,
      "outputs": []
    },
    {
      "cell_type": "code",
      "source": [
        "input_text=vectorize(\"Hi stupid bro i will kill you murder you tonight i am comming to fuck you\")\n",
        "\n",
        "res= model.predict(np.expand_dims(input_text, 0))"
      ],
      "metadata": {
        "id": "c1l2RK2rfz6V"
      },
      "execution_count": 71,
      "outputs": []
    },
    {
      "cell_type": "code",
      "source": [
        "print(res)"
      ],
      "metadata": {
        "colab": {
          "base_uri": "https://localhost:8080/"
        },
        "id": "pCeXtvFlhGpJ",
        "outputId": "0d277d51-8930-474b-948a-21eac218e2b7"
      },
      "execution_count": 72,
      "outputs": [
        {
          "output_type": "stream",
          "name": "stdout",
          "text": [
            "[[0.99940526 0.4841782  0.99181026 0.36270186 0.9415534  0.41706517]]\n"
          ]
        }
      ]
    },
    {
      "cell_type": "code",
      "source": [
        "batch= test.as_numpy_iterator().next()\n",
        "test_batch_X, test_batch_Y = batch"
      ],
      "metadata": {
        "id": "DSEsVvjihIbU"
      },
      "execution_count": 73,
      "outputs": []
    },
    {
      "cell_type": "code",
      "source": [
        "model.predict(test_batch_X)"
      ],
      "metadata": {
        "colab": {
          "base_uri": "https://localhost:8080/"
        },
        "id": "ms1_Uj1piIpc",
        "outputId": "3bd1c5c4-59b9-4d72-ccae-f6e3f5bbf2cd"
      },
      "execution_count": 74,
      "outputs": [
        {
          "output_type": "execute_result",
          "data": {
            "text/plain": [
              "array([[9.99944925e-01, 4.60563511e-01, 9.99491334e-01, 8.36454611e-03,\n",
              "        9.65211868e-01, 1.40233524e-02],\n",
              "       [7.32109617e-09, 0.00000000e+00, 1.74235457e-14, 1.20112861e-23,\n",
              "        7.73409532e-16, 7.70003175e-17],\n",
              "       [9.88282373e-11, 0.00000000e+00, 2.98894402e-17, 2.60701589e-30,\n",
              "        4.51710563e-19, 2.49258389e-20],\n",
              "       [4.38257965e-04, 7.05700829e-23, 5.59122157e-07, 7.99504352e-10,\n",
              "        3.16385893e-07, 2.66961244e-08],\n",
              "       [1.13734768e-06, 2.28014389e-36, 7.80082804e-11, 3.32372923e-16,\n",
              "        1.42696662e-11, 5.52734074e-12],\n",
              "       [6.57951459e-04, 1.47164367e-21, 1.35064249e-06, 1.91280769e-09,\n",
              "        6.14279315e-07, 6.31925232e-08],\n",
              "       [1.36188130e-10, 0.00000000e+00, 3.80653165e-17, 1.52727605e-28,\n",
              "        1.62872677e-19, 1.04957660e-20],\n",
              "       [9.00935352e-01, 3.20562758e-02, 7.88163424e-01, 1.54299904e-02,\n",
              "        8.17417502e-01, 2.86829844e-02],\n",
              "       [9.99961615e-01, 6.00581288e-01, 9.99406457e-01, 5.62452190e-02,\n",
              "        9.73808229e-01, 6.36444837e-02],\n",
              "       [1.17151319e-06, 4.18243333e-37, 2.94790511e-11, 6.28240472e-16,\n",
              "        7.19279107e-12, 1.86294686e-12],\n",
              "       [4.86057388e-06, 2.73495071e-33, 1.74142867e-09, 6.06551506e-16,\n",
              "        7.78602252e-11, 2.79371448e-12],\n",
              "       [5.94909409e-07, 1.58144561e-38, 1.68007604e-11, 1.09558146e-16,\n",
              "        2.27297673e-12, 5.43693454e-13],\n",
              "       [1.51815693e-05, 1.74268599e-30, 4.17094137e-09, 2.78972998e-13,\n",
              "        7.48036855e-10, 1.06456219e-10],\n",
              "       [6.53171082e-06, 4.12038247e-32, 1.01953379e-09, 3.46389618e-14,\n",
              "        6.25929142e-10, 2.24329957e-10],\n",
              "       [1.20955946e-07, 0.00000000e+00, 1.22278077e-12, 2.64374498e-19,\n",
              "        8.08283900e-14, 1.75790982e-14],\n",
              "       [3.91684534e-06, 3.36690809e-34, 2.77457335e-10, 5.05667150e-15,\n",
              "        4.20661006e-11, 6.49384583e-12]], dtype=float32)"
            ]
          },
          "metadata": {},
          "execution_count": 74
        }
      ]
    },
    {
      "cell_type": "code",
      "source": [
        ""
      ],
      "metadata": {
        "colab": {
          "base_uri": "https://localhost:8080/"
        },
        "id": "5O8K1_lciON9",
        "outputId": "fcb4023a-f856-429c-af07-de0409771bcf"
      },
      "execution_count": 33,
      "outputs": [
        {
          "output_type": "execute_result",
          "data": {
            "text/plain": [
              "array([[0, 0, 0, 0, 0, 0],\n",
              "       [0, 0, 0, 0, 0, 0],\n",
              "       [0, 0, 0, 0, 0, 0],\n",
              "       [0, 0, 0, 0, 0, 0],\n",
              "       [0, 0, 0, 0, 0, 0],\n",
              "       [0, 0, 0, 0, 0, 0],\n",
              "       [1, 0, 1, 0, 1, 0],\n",
              "       [0, 0, 0, 0, 0, 0],\n",
              "       [0, 0, 0, 0, 0, 0],\n",
              "       [0, 0, 0, 0, 0, 0],\n",
              "       [0, 0, 0, 0, 0, 0],\n",
              "       [0, 0, 0, 0, 0, 0],\n",
              "       [0, 0, 0, 0, 0, 0],\n",
              "       [1, 0, 0, 0, 0, 0],\n",
              "       [0, 0, 0, 0, 0, 0],\n",
              "       [0, 0, 0, 0, 0, 0]])"
            ]
          },
          "metadata": {},
          "execution_count": 33
        }
      ]
    },
    {
      "cell_type": "code",
      "source": [
        "rs= model.predict(batch_X)"
      ],
      "metadata": {
        "id": "gRjlt9Y9ieV2"
      },
      "execution_count": 75,
      "outputs": []
    },
    {
      "cell_type": "code",
      "source": [
        "rs.flatten()\n",
        "#converts it into one big array"
      ],
      "metadata": {
        "colab": {
          "base_uri": "https://localhost:8080/"
        },
        "id": "eFu5yp8EkBv-",
        "outputId": "131b240d-64b0-4016-cd17-60e958fe3b92"
      },
      "execution_count": 76,
      "outputs": [
        {
          "output_type": "execute_result",
          "data": {
            "text/plain": [
              "array([9.43367839e-01, 2.11163933e-04, 5.60541544e-03, 5.48489974e-04,\n",
              "       4.14421298e-02, 5.96015714e-04, 3.24794982e-08, 0.00000000e+00,\n",
              "       2.40467721e-13, 1.42704095e-21, 4.51714920e-15, 3.73262379e-16,\n",
              "       1.02704663e-08, 0.00000000e+00, 8.53152676e-15, 2.38673590e-22,\n",
              "       3.37492416e-16, 1.18302987e-16, 4.76594520e-04, 2.14354203e-21,\n",
              "       1.33438266e-06, 9.24375954e-09, 1.25436054e-06, 3.57135946e-07,\n",
              "       3.13890602e-09, 0.00000000e+00, 1.96364938e-15, 1.18811684e-25,\n",
              "       2.82466595e-17, 1.89631776e-18, 1.09503482e-07, 0.00000000e+00,\n",
              "       7.79192791e-13, 1.42761952e-19, 4.41956211e-14, 7.81574919e-15,\n",
              "       1.31495378e-03, 1.03167834e-19, 3.75611853e-06, 3.34981749e-08,\n",
              "       4.21875575e-06, 4.66885297e-07, 9.67339218e-01, 1.32602829e-04,\n",
              "       1.49268927e-02, 7.67008532e-05, 1.95715670e-02, 4.31390545e-05,\n",
              "       2.92214991e-05, 2.47126206e-28, 1.23542154e-08, 8.35283584e-14,\n",
              "       4.82727858e-09, 1.38394074e-09, 8.31010594e-10, 0.00000000e+00,\n",
              "       9.23695888e-16, 6.84765316e-27, 2.99553003e-17, 1.20753594e-18,\n",
              "       2.79320167e-09, 0.00000000e+00, 8.05271576e-16, 6.07936248e-25,\n",
              "       1.67643437e-17, 1.05403183e-17, 8.14559253e-11, 0.00000000e+00,\n",
              "       4.37763047e-18, 9.93191690e-30, 1.62279071e-20, 3.06653726e-21,\n",
              "       1.24289581e-04, 3.03638257e-25, 1.49845746e-07, 1.88017883e-11,\n",
              "       2.66629474e-08, 2.90427615e-09, 9.99230862e-01, 2.83091694e-01,\n",
              "       9.96615350e-01, 1.29115181e-02, 9.46102679e-01, 2.09431164e-02,\n",
              "       3.79199649e-09, 0.00000000e+00, 2.52180851e-15, 6.15247904e-25,\n",
              "       4.25705194e-17, 8.80004945e-18, 1.04702107e-04, 2.33066119e-25,\n",
              "       9.98351624e-08, 7.81996690e-12, 3.35932562e-08, 8.76451089e-09],\n",
              "      dtype=float32)"
            ]
          },
          "metadata": {},
          "execution_count": 76
        }
      ]
    },
    {
      "cell_type": "markdown",
      "source": [
        "**E**valuation"
      ],
      "metadata": {
        "id": "UUfPnjt6i6B6"
      }
    },
    {
      "cell_type": "code",
      "source": [
        "from tensorflow.keras.metrics import Precision, Recall, CategoricalAccuracy"
      ],
      "metadata": {
        "id": "Pdtf4scQi9DM"
      },
      "execution_count": 34,
      "outputs": []
    },
    {
      "cell_type": "code",
      "source": [
        "pre= Precision()\n",
        "re = Recall()\n",
        "acc= CategoricalAccuracy() "
      ],
      "metadata": {
        "id": "SxqTDyZPjLGa"
      },
      "execution_count": 77,
      "outputs": []
    },
    {
      "cell_type": "code",
      "source": [
        "for batch in test.as_numpy_iterator():\n",
        "  X_true,Y_true= batch\n",
        "  #make prediction\n",
        "  yhat= model.predict(X_true)\n",
        "\n",
        "#flatten the prediction\n",
        "  Y_true= Y_true.flatten()\n",
        "  yhat=yhat.flatten()\n",
        "\n",
        "\n",
        "  pre.update_state(Y_true, yhat)\n",
        "  re.update_state(Y_true, yhat)\n",
        "  acc.update_state(Y_true, yhat)\n",
        "  \n"
      ],
      "metadata": {
        "id": "W8kMPnRLjY5z"
      },
      "execution_count": 78,
      "outputs": []
    },
    {
      "cell_type": "code",
      "source": [
        "print(f\"Precissiion: {pre.result().numpy()}, Recall: {re.result().numpy()}, Accuracy: {acc.result().numpy()}\")"
      ],
      "metadata": {
        "colab": {
          "base_uri": "https://localhost:8080/"
        },
        "id": "XPwrzA8ykwYL",
        "outputId": "72153212-e27b-4469-92be-fe7717b096b8"
      },
      "execution_count": 79,
      "outputs": [
        {
          "output_type": "stream",
          "name": "stdout",
          "text": [
            "Precissiion: 0.9187554121017456, Recall: 0.9330017566680908, Accuracy: 0.5135406255722046\n"
          ]
        }
      ]
    },
    {
      "cell_type": "code",
      "source": [
        "!pip install gradio jinja2"
      ],
      "metadata": {
        "colab": {
          "base_uri": "https://localhost:8080/"
        },
        "id": "0SAsmVsalNzY",
        "outputId": "f93e8e8b-d39b-4e6b-9242-61ea4336a119"
      },
      "execution_count": 40,
      "outputs": [
        {
          "output_type": "stream",
          "name": "stdout",
          "text": [
            "Looking in indexes: https://pypi.org/simple, https://us-python.pkg.dev/colab-wheels/public/simple/\n",
            "Collecting gradio\n",
            "  Downloading gradio-3.0.20-py3-none-any.whl (5.1 MB)\n",
            "\u001b[K     |████████████████████████████████| 5.1 MB 2.4 MB/s \n",
            "\u001b[?25hRequirement already satisfied: jinja2 in /usr/local/lib/python3.7/dist-packages (2.11.3)\n",
            "Collecting markdown-it-py[linkify,plugins]\n",
            "  Downloading markdown_it_py-2.1.0-py3-none-any.whl (84 kB)\n",
            "\u001b[K     |████████████████████████████████| 84 kB 4.2 MB/s \n",
            "\u001b[?25hCollecting pydub\n",
            "  Downloading pydub-0.25.1-py2.py3-none-any.whl (32 kB)\n",
            "Collecting python-multipart\n",
            "  Downloading python-multipart-0.0.5.tar.gz (32 kB)\n",
            "Collecting paramiko\n",
            "  Downloading paramiko-2.11.0-py2.py3-none-any.whl (212 kB)\n",
            "\u001b[K     |████████████████████████████████| 212 kB 68.8 MB/s \n",
            "\u001b[?25hCollecting ffmpy\n",
            "  Downloading ffmpy-0.3.0.tar.gz (4.8 kB)\n",
            "Requirement already satisfied: pandas in /usr/local/lib/python3.7/dist-packages (from gradio) (1.3.5)\n",
            "Collecting pycryptodome\n",
            "  Downloading pycryptodome-3.15.0-cp35-abi3-manylinux2010_x86_64.whl (2.3 MB)\n",
            "\u001b[K     |████████████████████████████████| 2.3 MB 46.3 MB/s \n",
            "\u001b[?25hRequirement already satisfied: pillow in /usr/local/lib/python3.7/dist-packages (from gradio) (7.1.2)\n",
            "Collecting orjson\n",
            "  Downloading orjson-3.7.5-cp37-cp37m-manylinux_2_17_x86_64.manylinux2014_x86_64.whl (272 kB)\n",
            "\u001b[K     |████████████████████████████████| 272 kB 65.6 MB/s \n",
            "\u001b[?25hRequirement already satisfied: numpy in /usr/local/lib/python3.7/dist-packages (from gradio) (1.21.6)\n",
            "Collecting fastapi\n",
            "  Downloading fastapi-0.78.0-py3-none-any.whl (54 kB)\n",
            "\u001b[K     |████████████████████████████████| 54 kB 3.7 MB/s \n",
            "\u001b[?25hCollecting aiohttp\n",
            "  Downloading aiohttp-3.8.1-cp37-cp37m-manylinux_2_5_x86_64.manylinux1_x86_64.manylinux_2_12_x86_64.manylinux2010_x86_64.whl (1.1 MB)\n",
            "\u001b[K     |████████████████████████████████| 1.1 MB 61.9 MB/s \n",
            "\u001b[?25hRequirement already satisfied: matplotlib in /usr/local/lib/python3.7/dist-packages (from gradio) (3.2.2)\n",
            "Collecting uvicorn\n",
            "  Downloading uvicorn-0.18.2-py3-none-any.whl (57 kB)\n",
            "\u001b[K     |████████████████████████████████| 57 kB 6.2 MB/s \n",
            "\u001b[?25hCollecting fsspec\n",
            "  Downloading fsspec-2022.5.0-py3-none-any.whl (140 kB)\n",
            "\u001b[K     |████████████████████████████████| 140 kB 71.0 MB/s \n",
            "\u001b[?25hCollecting analytics-python\n",
            "  Downloading analytics_python-1.4.0-py2.py3-none-any.whl (15 kB)\n",
            "Requirement already satisfied: requests in /usr/local/lib/python3.7/dist-packages (from gradio) (2.23.0)\n",
            "Requirement already satisfied: MarkupSafe>=0.23 in /usr/local/lib/python3.7/dist-packages (from jinja2) (2.0.1)\n",
            "Collecting frozenlist>=1.1.1\n",
            "  Downloading frozenlist-1.3.0-cp37-cp37m-manylinux_2_5_x86_64.manylinux1_x86_64.manylinux_2_17_x86_64.manylinux2014_x86_64.whl (144 kB)\n",
            "\u001b[K     |████████████████████████████████| 144 kB 69.9 MB/s \n",
            "\u001b[?25hRequirement already satisfied: typing-extensions>=3.7.4 in /usr/local/lib/python3.7/dist-packages (from aiohttp->gradio) (4.1.1)\n",
            "Requirement already satisfied: charset-normalizer<3.0,>=2.0 in /usr/local/lib/python3.7/dist-packages (from aiohttp->gradio) (2.0.12)\n",
            "Collecting multidict<7.0,>=4.5\n",
            "  Downloading multidict-6.0.2-cp37-cp37m-manylinux_2_17_x86_64.manylinux2014_x86_64.whl (94 kB)\n",
            "\u001b[K     |████████████████████████████████| 94 kB 4.3 MB/s \n",
            "\u001b[?25hCollecting async-timeout<5.0,>=4.0.0a3\n",
            "  Downloading async_timeout-4.0.2-py3-none-any.whl (5.8 kB)\n",
            "Collecting aiosignal>=1.1.2\n",
            "  Downloading aiosignal-1.2.0-py3-none-any.whl (8.2 kB)\n",
            "Collecting yarl<2.0,>=1.0\n",
            "  Downloading yarl-1.7.2-cp37-cp37m-manylinux_2_5_x86_64.manylinux1_x86_64.manylinux_2_12_x86_64.manylinux2010_x86_64.whl (271 kB)\n",
            "\u001b[K     |████████████████████████████████| 271 kB 69.6 MB/s \n",
            "\u001b[?25hCollecting asynctest==0.13.0\n",
            "  Downloading asynctest-0.13.0-py3-none-any.whl (26 kB)\n",
            "Requirement already satisfied: attrs>=17.3.0 in /usr/local/lib/python3.7/dist-packages (from aiohttp->gradio) (21.4.0)\n",
            "Requirement already satisfied: idna>=2.0 in /usr/local/lib/python3.7/dist-packages (from yarl<2.0,>=1.0->aiohttp->gradio) (2.10)\n",
            "Collecting monotonic>=1.5\n",
            "  Downloading monotonic-1.6-py2.py3-none-any.whl (8.2 kB)\n",
            "Requirement already satisfied: six>=1.5 in /usr/local/lib/python3.7/dist-packages (from analytics-python->gradio) (1.15.0)\n",
            "Requirement already satisfied: python-dateutil>2.1 in /usr/local/lib/python3.7/dist-packages (from analytics-python->gradio) (2.8.2)\n",
            "Collecting backoff==1.10.0\n",
            "  Downloading backoff-1.10.0-py2.py3-none-any.whl (31 kB)\n",
            "Requirement already satisfied: urllib3!=1.25.0,!=1.25.1,<1.26,>=1.21.1 in /usr/local/lib/python3.7/dist-packages (from requests->gradio) (1.24.3)\n",
            "Requirement already satisfied: chardet<4,>=3.0.2 in /usr/local/lib/python3.7/dist-packages (from requests->gradio) (3.0.4)\n",
            "Requirement already satisfied: certifi>=2017.4.17 in /usr/local/lib/python3.7/dist-packages (from requests->gradio) (2022.6.15)\n",
            "Collecting starlette==0.19.1\n",
            "  Downloading starlette-0.19.1-py3-none-any.whl (63 kB)\n",
            "\u001b[K     |████████████████████████████████| 63 kB 2.4 MB/s \n",
            "\u001b[?25hRequirement already satisfied: pydantic!=1.7,!=1.7.1,!=1.7.2,!=1.7.3,!=1.8,!=1.8.1,<2.0.0,>=1.6.2 in /usr/local/lib/python3.7/dist-packages (from fastapi->gradio) (1.8.2)\n",
            "Collecting anyio<5,>=3.4.0\n",
            "  Downloading anyio-3.6.1-py3-none-any.whl (80 kB)\n",
            "\u001b[K     |████████████████████████████████| 80 kB 10.6 MB/s \n",
            "\u001b[?25hCollecting sniffio>=1.1\n",
            "  Downloading sniffio-1.2.0-py3-none-any.whl (10 kB)\n",
            "Collecting mdurl~=0.1\n",
            "  Downloading mdurl-0.1.1-py3-none-any.whl (10 kB)\n",
            "Collecting mdit-py-plugins\n",
            "  Downloading mdit_py_plugins-0.3.0-py3-none-any.whl (43 kB)\n",
            "\u001b[K     |████████████████████████████████| 43 kB 2.2 MB/s \n",
            "\u001b[?25hCollecting linkify-it-py~=1.0\n",
            "  Downloading linkify_it_py-1.0.3-py3-none-any.whl (19 kB)\n",
            "Collecting uc-micro-py\n",
            "  Downloading uc_micro_py-1.0.1-py3-none-any.whl (6.2 kB)\n",
            "Requirement already satisfied: pyparsing!=2.0.4,!=2.1.2,!=2.1.6,>=2.0.1 in /usr/local/lib/python3.7/dist-packages (from matplotlib->gradio) (3.0.9)\n",
            "Requirement already satisfied: cycler>=0.10 in /usr/local/lib/python3.7/dist-packages (from matplotlib->gradio) (0.11.0)\n",
            "Requirement already satisfied: kiwisolver>=1.0.1 in /usr/local/lib/python3.7/dist-packages (from matplotlib->gradio) (1.4.3)\n",
            "Requirement already satisfied: pytz>=2017.3 in /usr/local/lib/python3.7/dist-packages (from pandas->gradio) (2022.1)\n",
            "Collecting pynacl>=1.0.1\n",
            "  Downloading PyNaCl-1.5.0-cp36-abi3-manylinux_2_17_x86_64.manylinux2014_x86_64.manylinux_2_24_x86_64.whl (856 kB)\n",
            "\u001b[K     |████████████████████████████████| 856 kB 69.9 MB/s \n",
            "\u001b[?25hCollecting cryptography>=2.5\n",
            "  Downloading cryptography-37.0.2-cp36-abi3-manylinux_2_24_x86_64.whl (4.0 MB)\n",
            "\u001b[K     |████████████████████████████████| 4.0 MB 45.9 MB/s \n",
            "\u001b[?25hCollecting bcrypt>=3.1.3\n",
            "  Downloading bcrypt-3.2.2-cp36-abi3-manylinux_2_17_x86_64.manylinux2014_x86_64.manylinux_2_24_x86_64.whl (62 kB)\n",
            "\u001b[K     |████████████████████████████████| 62 kB 1.1 MB/s \n",
            "\u001b[?25hRequirement already satisfied: cffi>=1.1 in /usr/local/lib/python3.7/dist-packages (from bcrypt>=3.1.3->paramiko->gradio) (1.15.0)\n",
            "Requirement already satisfied: pycparser in /usr/local/lib/python3.7/dist-packages (from cffi>=1.1->bcrypt>=3.1.3->paramiko->gradio) (2.21)\n",
            "Collecting h11>=0.8\n",
            "  Downloading h11-0.13.0-py3-none-any.whl (58 kB)\n",
            "\u001b[K     |████████████████████████████████| 58 kB 7.7 MB/s \n",
            "\u001b[?25hRequirement already satisfied: click>=7.0 in /usr/local/lib/python3.7/dist-packages (from uvicorn->gradio) (7.1.2)\n",
            "Building wheels for collected packages: ffmpy, python-multipart\n",
            "  Building wheel for ffmpy (setup.py) ... \u001b[?25l\u001b[?25hdone\n",
            "  Created wheel for ffmpy: filename=ffmpy-0.3.0-py3-none-any.whl size=4712 sha256=eeed70b0787af781be342493f1eea6fc8a273735e1d2b2c2275d6e7650239144\n",
            "  Stored in directory: /root/.cache/pip/wheels/13/e4/6c/e8059816e86796a597c6e6b0d4c880630f51a1fcfa0befd5e6\n",
            "  Building wheel for python-multipart (setup.py) ... \u001b[?25l\u001b[?25hdone\n",
            "  Created wheel for python-multipart: filename=python_multipart-0.0.5-py3-none-any.whl size=31678 sha256=513b8335ed1a3012a510dfc12d8b296c79f4328bbfb383cfab99cc0646b3734f\n",
            "  Stored in directory: /root/.cache/pip/wheels/2c/41/7c/bfd1c180534ffdcc0972f78c5758f89881602175d48a8bcd2c\n",
            "Successfully built ffmpy python-multipart\n",
            "Installing collected packages: sniffio, mdurl, uc-micro-py, multidict, markdown-it-py, frozenlist, anyio, yarl, starlette, pynacl, monotonic, mdit-py-plugins, linkify-it-py, h11, cryptography, bcrypt, backoff, asynctest, async-timeout, aiosignal, uvicorn, python-multipart, pydub, pycryptodome, paramiko, orjson, fsspec, ffmpy, fastapi, analytics-python, aiohttp, gradio\n",
            "Successfully installed aiohttp-3.8.1 aiosignal-1.2.0 analytics-python-1.4.0 anyio-3.6.1 async-timeout-4.0.2 asynctest-0.13.0 backoff-1.10.0 bcrypt-3.2.2 cryptography-37.0.2 fastapi-0.78.0 ffmpy-0.3.0 frozenlist-1.3.0 fsspec-2022.5.0 gradio-3.0.20 h11-0.13.0 linkify-it-py-1.0.3 markdown-it-py-2.1.0 mdit-py-plugins-0.3.0 mdurl-0.1.1 monotonic-1.6 multidict-6.0.2 orjson-3.7.5 paramiko-2.11.0 pycryptodome-3.15.0 pydub-0.25.1 pynacl-1.5.0 python-multipart-0.0.5 sniffio-1.2.0 starlette-0.19.1 uc-micro-py-1.0.1 uvicorn-0.18.2 yarl-1.7.2\n"
          ]
        }
      ]
    },
    {
      "cell_type": "code",
      "source": [
        "import gradio as gr"
      ],
      "metadata": {
        "id": "SHIPKUltl1uD"
      },
      "execution_count": 41,
      "outputs": []
    },
    {
      "cell_type": "code",
      "source": [
        "import os\n",
        "paths = {\n",
        "    'CHECKPOINT_PATH': os.path.join('models'),\n",
        " }"
      ],
      "metadata": {
        "id": "FeRCK_hfl9XQ"
      },
      "execution_count": 85,
      "outputs": []
    },
    {
      "cell_type": "code",
      "source": [
        "for path in paths.values():\n",
        "    if not os.path.exists(path):\n",
        "        if os.name == 'posix':\n",
        "            !mkdir -p {path}\n",
        "        if os.name == 'nt':\n",
        "            !mkdir {path}"
      ],
      "metadata": {
        "id": "G1MGCmuumBuN"
      },
      "execution_count": 86,
      "outputs": []
    },
    {
      "cell_type": "code",
      "source": [
        "!tar -czf models.tar.gz {paths['CHECKPOINT_PATH']}"
      ],
      "metadata": {
        "id": "w3jIud5wmdlc"
      },
      "execution_count": 87,
      "outputs": []
    },
    {
      "cell_type": "code",
      "source": [
        "import os\n",
        "model_version=max([int(i) for i in os.listdir(\"models\") + [0]])+1\n",
        "model.save(f\"models/{model_version}\")"
      ],
      "metadata": {
        "colab": {
          "base_uri": "https://localhost:8080/"
        },
        "id": "1ALFko4Ymgus",
        "outputId": "1fed6ada-0b3c-4e26-b0a5-ada18eaab9e5"
      },
      "execution_count": 88,
      "outputs": [
        {
          "output_type": "stream",
          "name": "stderr",
          "text": [
            "WARNING:absl:Found untraced functions such as lstm_cell_4_layer_call_fn, lstm_cell_4_layer_call_and_return_conditional_losses, lstm_cell_5_layer_call_fn, lstm_cell_5_layer_call_and_return_conditional_losses while saving (showing 4 of 4). These functions will not be directly callable after loading.\n"
          ]
        },
        {
          "output_type": "stream",
          "name": "stdout",
          "text": [
            "INFO:tensorflow:Assets written to: models/1/assets\n"
          ]
        },
        {
          "output_type": "stream",
          "name": "stderr",
          "text": [
            "INFO:tensorflow:Assets written to: models/1/assets\n",
            "WARNING:absl:<keras.layers.recurrent.LSTMCell object at 0x7f17c2c6f8d0> has the same name 'LSTMCell' as a built-in Keras object. Consider renaming <class 'keras.layers.recurrent.LSTMCell'> to avoid naming conflicts when loading with `tf.keras.models.load_model`. If renaming is not possible, pass the object in the `custom_objects` parameter of the load function.\n",
            "WARNING:absl:<keras.layers.recurrent.LSTMCell object at 0x7f17c39e5310> has the same name 'LSTMCell' as a built-in Keras object. Consider renaming <class 'keras.layers.recurrent.LSTMCell'> to avoid naming conflicts when loading with `tf.keras.models.load_model`. If renaming is not possible, pass the object in the `custom_objects` parameter of the load function.\n"
          ]
        }
      ]
    },
    {
      "cell_type": "code",
      "source": [
        "model.save(\"toxicity.h5\")"
      ],
      "metadata": {
        "id": "wyNRIQqvmkrL"
      },
      "execution_count": 89,
      "outputs": []
    },
    {
      "cell_type": "code",
      "source": [
        "import tensorflow as tf\n",
        "model=tf.keras.models.load_model(\"toxicity.h5\")"
      ],
      "metadata": {
        "id": "IZLNY8Eunr1u"
      },
      "execution_count": 57,
      "outputs": []
    },
    {
      "cell_type": "code",
      "source": [
        "def score_comment(comment):\n",
        "  vectorized_comment=vectorize([comment])\n",
        "  results= model.predict(vectorized_comment)\n",
        "\n",
        "  text=''\n",
        "  for idx, col in enumerate(dataset.columns[2:]):\n",
        "    text += '{}: {}\\n'.format(col, results[0][idx]>0.5)\n",
        "  return text\n"
      ],
      "metadata": {
        "id": "YCcSfwRioOTF"
      },
      "execution_count": 80,
      "outputs": []
    },
    {
      "cell_type": "code",
      "source": [
        "interface=gr.Interface(fn=score_comment, inputs=gr.inputs.Textbox(lines=2,placeholder='Commebnt to check'),\n",
        "                       outputs='text')"
      ],
      "metadata": {
        "colab": {
          "base_uri": "https://localhost:8080/"
        },
        "id": "rRXTlH3so2h6",
        "outputId": "3c57f66f-df74-4106-aa04-f97d2ae14b24"
      },
      "execution_count": 81,
      "outputs": [
        {
          "output_type": "stream",
          "name": "stderr",
          "text": [
            "/usr/local/lib/python3.7/dist-packages/gradio/deprecation.py:40: UserWarning: `optional` parameter is deprecated, and it has no effect\n",
            "  warnings.warn(value)\n",
            "/usr/local/lib/python3.7/dist-packages/gradio/deprecation.py:40: UserWarning: `numeric` parameter is deprecated, and it has no effect\n",
            "  warnings.warn(value)\n",
            "/usr/local/lib/python3.7/dist-packages/gradio/deprecation.py:40: UserWarning: The 'type' parameter has been deprecated. Use the Number component instead.\n",
            "  warnings.warn(value)\n"
          ]
        }
      ]
    },
    {
      "cell_type": "code",
      "source": [
        "interface.launch(share=True)"
      ],
      "metadata": {
        "colab": {
          "base_uri": "https://localhost:8080/",
          "height": 643
        },
        "id": "JkD8I562qUEH",
        "outputId": "eab75b16-1c82-4685-c99b-ea668b879a2b"
      },
      "execution_count": 82,
      "outputs": [
        {
          "output_type": "stream",
          "name": "stdout",
          "text": [
            "Colab notebook detected. To show errors in colab notebook, set `debug=True` in `launch()`\n",
            "Running on public URL: https://24500.gradio.app\n",
            "\n",
            "This share link expires in 72 hours. For free permanent hosting, check out Spaces (https://huggingface.co/spaces)\n"
          ]
        },
        {
          "output_type": "display_data",
          "data": {
            "text/plain": [
              "<IPython.core.display.HTML object>"
            ],
            "text/html": [
              "<div><iframe src=\"https://24500.gradio.app\" width=\"900\" height=\"500\" allow=\"autoplay; camera; microphone;\" frameborder=\"0\" allowfullscreen></iframe></div>"
            ]
          },
          "metadata": {}
        },
        {
          "output_type": "execute_result",
          "data": {
            "text/plain": [
              "(<gradio.routes.App at 0x7f17c4aae990>,\n",
              " 'http://127.0.0.1:7861/',\n",
              " 'https://24500.gradio.app')"
            ]
          },
          "metadata": {},
          "execution_count": 82
        }
      ]
    },
    {
      "cell_type": "code",
      "source": [
        ""
      ],
      "metadata": {
        "id": "8dObCh8FqeRz"
      },
      "execution_count": null,
      "outputs": []
    }
  ]
}